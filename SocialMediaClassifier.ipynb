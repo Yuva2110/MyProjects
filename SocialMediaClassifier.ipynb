{
  "nbformat": 4,
  "nbformat_minor": 0,
  "metadata": {
    "colab": {
      "provenance": [],
      "collapsed_sections": []
    },
    "kernelspec": {
      "name": "python3",
      "display_name": "Python 3"
    },
    "language_info": {
      "name": "python"
    }
  },
  "cells": [
    {
      "cell_type": "markdown",
      "source": [
        "#**Social Media Classifier**"
      ],
      "metadata": {
        "id": "fuwmMLSK863O"
      }
    },
    {
      "cell_type": "code",
      "source": [
        "#importing necessary libraries\n",
        "\n",
        "import numpy\n",
        "import pandas as pd\n",
        "import matplotlib.pyplot as plt\n",
        "import seaborn as sns\n",
        "import numpy as np\n",
        "from sklearn.model_selection import train_test_split\n",
        "from sklearn.tree import DecisionTreeClassifier\n",
        "from sklearn.metrics import classification_report"
      ],
      "metadata": {
        "id": "epjbRhta9E0G"
      },
      "execution_count": 1,
      "outputs": []
    },
    {
      "cell_type": "code",
      "source": [
        "\n",
        "#Visualizing the data\n",
        "\n",
        "data = pd.read_csv(\"socialmedial.csv\")\n",
        "print(data.head())\n",
        "\n",
        "print(data.describe())\n",
        "\n",
        "print(data.isnull().sum())"
      ],
      "metadata": {
        "colab": {
          "base_uri": "https://localhost:8080/"
        },
        "id": "fc4COtIb9Ewl",
        "outputId": "a19353fd-4237-42d1-df00-02a349af48e1"
      },
      "execution_count": 2,
      "outputs": [
        {
          "output_type": "stream",
          "name": "stdout",
          "text": [
            "   Unnamed: 0  Age  EstimatedSalary  Purchased\n",
            "0           0   19            19000          0\n",
            "1           1   35            20000          0\n",
            "2           2   26            43000          0\n",
            "3           3   27            57000          0\n",
            "4           4   19            76000          0\n",
            "       Unnamed: 0         Age  EstimatedSalary   Purchased\n",
            "count  400.000000  400.000000       400.000000  400.000000\n",
            "mean   199.500000   37.655000     69742.500000    0.357500\n",
            "std    115.614301   10.482877     34096.960282    0.479864\n",
            "min      0.000000   18.000000     15000.000000    0.000000\n",
            "25%     99.750000   29.750000     43000.000000    0.000000\n",
            "50%    199.500000   37.000000     70000.000000    0.000000\n",
            "75%    299.250000   46.000000     88000.000000    1.000000\n",
            "max    399.000000   60.000000    150000.000000    1.000000\n",
            "Unnamed: 0         0\n",
            "Age                0\n",
            "EstimatedSalary    0\n",
            "Purchased          0\n",
            "dtype: int64\n"
          ]
        }
      ]
    },
    {
      "cell_type": "code",
      "source": [
        "#Analysing buying with respect to Age\n",
        "\n",
        "plt.figure(figsize=(15, 10))\n",
        "plt.title(\"Product Purchased By People Through Social Media Marketing\")\n",
        "sns.histplot(x=\"Age\", hue=\"Purchased\", data=data)\n",
        "plt.show()"
      ],
      "metadata": {
        "colab": {
          "base_uri": "https://localhost:8080/",
          "height": 621
        },
        "id": "MV2htUdI9Eut",
        "outputId": "773f9973-e60b-4d11-caaf-7228e160eab8"
      },
      "execution_count": 3,
      "outputs": [
        {
          "output_type": "display_data",
          "data": {
            "text/plain": [
              "<Figure size 1080x720 with 1 Axes>"
            ],
            "image/png": "[encoded data removed]"
          },
          "metadata": {
            "needs_background": "light"
          }
        }
      ]
    },
    {
      "cell_type": "code",
      "source": [
        "#Analysing buying with respect to Income\n",
        "\n",
        "plt.title(\"Product Purchased By People According to Their Income\")\n",
        "sns.histplot(x=\"EstimatedSalary\", hue=\"Purchased\", data=data)\n",
        "plt.show()"
      ],
      "metadata": {
        "colab": {
          "base_uri": "https://localhost:8080/",
          "height": 295
        },
        "id": "6k7T2KPi9EsL",
        "outputId": "2c841186-e901-45e7-b166-a1ee5b2cc5b6"
      },
      "execution_count": 4,
      "outputs": [
        {
          "output_type": "display_data",
          "data": {
            "text/plain": [
              "<Figure size 432x288 with 1 Axes>"
            ],
            "image/png": "[encoded data removed]"
          },
          "metadata": {
            "needs_background": "light"
          }
        }
      ]
    },
    {
      "cell_type": "code",
      "source": [
        "#Splitting the dataset\n",
        "\n",
        "x = np.array(data[[\"Age\", \"EstimatedSalary\"]])\n",
        "y = np.array(data[[\"Purchased\"]])\n",
        "\n",
        "xtrain, xtest, ytrain, ytest = train_test_split(x, y, test_size=0.10, \n",
        "                                                random_state=42)"
      ],
      "metadata": {
        "id": "aO9E6Qby9Enj"
      },
      "execution_count": 5,
      "outputs": []
    },
    {
      "cell_type": "code",
      "source": [
        "#Building the Model\n",
        "\n",
        "model = DecisionTreeClassifier()\n",
        "model.fit(xtrain, ytrain)\n",
        "\n",
        "predictions = model.predict(xtest)"
      ],
      "metadata": {
        "id": "VG37A7zW9ETY"
      },
      "execution_count": 6,
      "outputs": []
    },
    {
      "cell_type": "code",
      "source": [
        "#RESULT\n",
        "print(classification_report(ytest, predictions))"
      ],
      "metadata": {
        "colab": {
          "base_uri": "https://localhost:8080/"
        },
        "id": "_JlQ0AU39Thc",
        "outputId": "53351667-9214-4cb7-b0c9-6453ece90f87"
      },
      "execution_count": 7,
      "outputs": [
        {
          "output_type": "stream",
          "name": "stdout",
          "text": [
            "              precision    recall  f1-score   support\n",
            "\n",
            "           0       0.88      0.85      0.87        27\n",
            "           1       0.71      0.77      0.74        13\n",
            "\n",
            "    accuracy                           0.82        40\n",
            "   macro avg       0.80      0.81      0.80        40\n",
            "weighted avg       0.83      0.82      0.83        40\n",
            "\n"
          ]
        }
      ]
    },
    {
      "cell_type": "code",
      "source": [
        "from sklearn.metrics import accuracy_score\n",
        "print(accuracy_score(ytest, predictions)*100)"
      ],
      "metadata": {
        "colab": {
          "base_uri": "https://localhost:8080/"
        },
        "id": "IZhU0Cfq_A45",
        "outputId": "0999e11f-8010-4d2b-e95f-0604131dd017"
      },
      "execution_count": 9,
      "outputs": [
        {
          "output_type": "stream",
          "name": "stdout",
          "text": [
            "82.5\n"
          ]
        }
      ]
    }
  ]
}